{
 "cells": [
  {
   "cell_type": "markdown",
   "metadata": {},
   "source": [
    "\n",
    "\n",
    "\n",
    "\n",
    "\n",
    "\n",
    "\n",
    "\n",
    "\n",
    "\n",
    "\n",
    "\n",
    "\n",
    "\n",
    "\n",
    "\n",
    "\n",
    "\n",
    "\n",
    "\n",
    "\n",
    "\n",
    "\n",
    "\n",
    "\n",
    "\n",
    "\n",
    "\n",
    "\n",
    "\n",
    "\n",
    "\n",
    "\n",
    "\n",
    "\n",
    "\n",
    "\n",
    "\n",
    "\n",
    "\n",
    "\n",
    "\n",
    "\n",
    "\n",
    "\n",
    "\n",
    "\n",
    "\n",
    "\n",
    "\n",
    "\n",
    "\n",
    "\n",
    "\n",
    "\n",
    "\n",
    "\n",
    "\n",
    "\n",
    "\n",
    "\n",
    "\n",
    "\n",
    "\n",
    "\n",
    "\n",
    "\n",
    "\n",
    "\n",
    "\n",
    "\n",
    "\n",
    "\n",
    "\n",
    "\n",
    "\n",
    "\n",
    "\n",
    "\n",
    "\n",
    "\n",
    "\n",
    "\n",
    "\n",
    "\n",
    "\n",
    "\n",
    "\n",
    "\n",
    "\n",
    "\n",
    "\n",
    "\n",
    "\n",
    "\n",
    "\n",
    "\n",
    "\n",
    "\n",
    "\n",
    "\n",
    "\n",
    "\n",
    "\n",
    "\n",
    "\n",
    "\n",
    "\n",
    "\n",
    "\n",
    "\n",
    "\n",
    "\n",
    "\n",
    "\n",
    "\n",
    "\n",
    "\n",
    "\n",
    "\n",
    "\n",
    "\n",
    "\n",
    "\n",
    "\n",
    "\n",
    "\n",
    "# Importing packages "
   ]
  },
  {
   "cell_type": "code",
   "execution_count": 43,
   "metadata": {},
   "outputs": [],
   "source": [
    "# Data wrangling \n",
    "import pandas as pd \n",
    "\n",
    "# Array math\n",
    "import numpy as np \n",
    "\n",
    "# Ploting \n",
    "import seaborn as sns\n",
    "import matplotlib.pyplot as plt\n",
    "\n",
    "# List iteration tracking\n",
    "from tqdm import tqdm\n",
    "\n",
    "# Importing the custom written class \n",
    "from DecisionTree import Node \n",
    "\n",
    "# Importing the custom regression tree \n",
    "from RegressionDecisionTree import NodeRegression\n",
    "\n",
    "# Importing the scikit-learn tree implementation\n",
    "from sklearn.tree import DecisionTreeClassifier, export_text , DecisionTreeRegressor\n",
    "\n",
    "# Inspecting functions\n",
    "import inspect\n",
    "\n",
    "# Time tracking\n",
    "import time"
   ]
  },
  {
   "cell_type": "markdown",
   "metadata": {},
   "source": [
    "# Motivating example"
   ]
  },
  {
   "cell_type": "markdown",
   "metadata": {},
   "source": [
    "Lets load some data from the famous titanic dataset."
   ]
  },
  {
   "cell_type": "code",
   "execution_count": 2,
   "metadata": {},
   "outputs": [],
   "source": [
    "# Loading data\n",
    "d = pd.read_csv('data/classification/train.csv')"
   ]
  },
  {
   "cell_type": "code",
   "execution_count": 3,
   "metadata": {},
   "outputs": [
    {
     "data": {
      "text/html": [
       "<div>\n",
       "<style scoped>\n",
       "    .dataframe tbody tr th:only-of-type {\n",
       "        vertical-align: middle;\n",
       "    }\n",
       "\n",
       "    .dataframe tbody tr th {\n",
       "        vertical-align: top;\n",
       "    }\n",
       "\n",
       "    .dataframe thead th {\n",
       "        text-align: right;\n",
       "    }\n",
       "</style>\n",
       "<table border=\"1\" class=\"dataframe\">\n",
       "  <thead>\n",
       "    <tr style=\"text-align: right;\">\n",
       "      <th></th>\n",
       "      <th>PassengerId</th>\n",
       "      <th>Survived</th>\n",
       "      <th>Pclass</th>\n",
       "      <th>Name</th>\n",
       "      <th>Sex</th>\n",
       "      <th>Age</th>\n",
       "      <th>SibSp</th>\n",
       "      <th>Parch</th>\n",
       "      <th>Ticket</th>\n",
       "      <th>Fare</th>\n",
       "      <th>Cabin</th>\n",
       "      <th>Embarked</th>\n",
       "    </tr>\n",
       "  </thead>\n",
       "  <tbody>\n",
       "    <tr>\n",
       "      <th>724</th>\n",
       "      <td>725</td>\n",
       "      <td>1</td>\n",
       "      <td>1</td>\n",
       "      <td>Chambers, Mr. Norman Campbell</td>\n",
       "      <td>male</td>\n",
       "      <td>27.0</td>\n",
       "      <td>1</td>\n",
       "      <td>0</td>\n",
       "      <td>113806</td>\n",
       "      <td>53.1000</td>\n",
       "      <td>E8</td>\n",
       "      <td>S</td>\n",
       "    </tr>\n",
       "    <tr>\n",
       "      <th>578</th>\n",
       "      <td>579</td>\n",
       "      <td>0</td>\n",
       "      <td>3</td>\n",
       "      <td>Caram, Mrs. Joseph (Maria Elias)</td>\n",
       "      <td>female</td>\n",
       "      <td>NaN</td>\n",
       "      <td>1</td>\n",
       "      <td>0</td>\n",
       "      <td>2689</td>\n",
       "      <td>14.4583</td>\n",
       "      <td>NaN</td>\n",
       "      <td>C</td>\n",
       "    </tr>\n",
       "    <tr>\n",
       "      <th>187</th>\n",
       "      <td>188</td>\n",
       "      <td>1</td>\n",
       "      <td>1</td>\n",
       "      <td>Romaine, Mr. Charles Hallace (\"Mr C Rolmane\")</td>\n",
       "      <td>male</td>\n",
       "      <td>45.0</td>\n",
       "      <td>0</td>\n",
       "      <td>0</td>\n",
       "      <td>111428</td>\n",
       "      <td>26.5500</td>\n",
       "      <td>NaN</td>\n",
       "      <td>S</td>\n",
       "    </tr>\n",
       "    <tr>\n",
       "      <th>848</th>\n",
       "      <td>849</td>\n",
       "      <td>0</td>\n",
       "      <td>2</td>\n",
       "      <td>Harper, Rev. John</td>\n",
       "      <td>male</td>\n",
       "      <td>28.0</td>\n",
       "      <td>0</td>\n",
       "      <td>1</td>\n",
       "      <td>248727</td>\n",
       "      <td>33.0000</td>\n",
       "      <td>NaN</td>\n",
       "      <td>S</td>\n",
       "    </tr>\n",
       "    <tr>\n",
       "      <th>888</th>\n",
       "      <td>889</td>\n",
       "      <td>0</td>\n",
       "      <td>3</td>\n",
       "      <td>Johnston, Miss. Catherine Helen \"Carrie\"</td>\n",
       "      <td>female</td>\n",
       "      <td>NaN</td>\n",
       "      <td>1</td>\n",
       "      <td>2</td>\n",
       "      <td>W./C. 6607</td>\n",
       "      <td>23.4500</td>\n",
       "      <td>NaN</td>\n",
       "      <td>S</td>\n",
       "    </tr>\n",
       "    <tr>\n",
       "      <th>701</th>\n",
       "      <td>702</td>\n",
       "      <td>1</td>\n",
       "      <td>1</td>\n",
       "      <td>Silverthorne, Mr. Spencer Victor</td>\n",
       "      <td>male</td>\n",
       "      <td>35.0</td>\n",
       "      <td>0</td>\n",
       "      <td>0</td>\n",
       "      <td>PC 17475</td>\n",
       "      <td>26.2875</td>\n",
       "      <td>E24</td>\n",
       "      <td>S</td>\n",
       "    </tr>\n",
       "    <tr>\n",
       "      <th>247</th>\n",
       "      <td>248</td>\n",
       "      <td>1</td>\n",
       "      <td>2</td>\n",
       "      <td>Hamalainen, Mrs. William (Anna)</td>\n",
       "      <td>female</td>\n",
       "      <td>24.0</td>\n",
       "      <td>0</td>\n",
       "      <td>2</td>\n",
       "      <td>250649</td>\n",
       "      <td>14.5000</td>\n",
       "      <td>NaN</td>\n",
       "      <td>S</td>\n",
       "    </tr>\n",
       "    <tr>\n",
       "      <th>266</th>\n",
       "      <td>267</td>\n",
       "      <td>0</td>\n",
       "      <td>3</td>\n",
       "      <td>Panula, Mr. Ernesti Arvid</td>\n",
       "      <td>male</td>\n",
       "      <td>16.0</td>\n",
       "      <td>4</td>\n",
       "      <td>1</td>\n",
       "      <td>3101295</td>\n",
       "      <td>39.6875</td>\n",
       "      <td>NaN</td>\n",
       "      <td>S</td>\n",
       "    </tr>\n",
       "    <tr>\n",
       "      <th>195</th>\n",
       "      <td>196</td>\n",
       "      <td>1</td>\n",
       "      <td>1</td>\n",
       "      <td>Lurette, Miss. Elise</td>\n",
       "      <td>female</td>\n",
       "      <td>58.0</td>\n",
       "      <td>0</td>\n",
       "      <td>0</td>\n",
       "      <td>PC 17569</td>\n",
       "      <td>146.5208</td>\n",
       "      <td>B80</td>\n",
       "      <td>C</td>\n",
       "    </tr>\n",
       "    <tr>\n",
       "      <th>610</th>\n",
       "      <td>611</td>\n",
       "      <td>0</td>\n",
       "      <td>3</td>\n",
       "      <td>Andersson, Mrs. Anders Johan (Alfrida Konstant...</td>\n",
       "      <td>female</td>\n",
       "      <td>39.0</td>\n",
       "      <td>1</td>\n",
       "      <td>5</td>\n",
       "      <td>347082</td>\n",
       "      <td>31.2750</td>\n",
       "      <td>NaN</td>\n",
       "      <td>S</td>\n",
       "    </tr>\n",
       "  </tbody>\n",
       "</table>\n",
       "</div>"
      ],
      "text/plain": [
       "     PassengerId  Survived  Pclass  \\\n",
       "724          725         1       1   \n",
       "578          579         0       3   \n",
       "187          188         1       1   \n",
       "848          849         0       2   \n",
       "888          889         0       3   \n",
       "701          702         1       1   \n",
       "247          248         1       2   \n",
       "266          267         0       3   \n",
       "195          196         1       1   \n",
       "610          611         0       3   \n",
       "\n",
       "                                                  Name     Sex   Age  SibSp  \\\n",
       "724                      Chambers, Mr. Norman Campbell    male  27.0      1   \n",
       "578                   Caram, Mrs. Joseph (Maria Elias)  female   NaN      1   \n",
       "187      Romaine, Mr. Charles Hallace (\"Mr C Rolmane\")    male  45.0      0   \n",
       "848                                  Harper, Rev. John    male  28.0      0   \n",
       "888           Johnston, Miss. Catherine Helen \"Carrie\"  female   NaN      1   \n",
       "701                   Silverthorne, Mr. Spencer Victor    male  35.0      0   \n",
       "247                    Hamalainen, Mrs. William (Anna)  female  24.0      0   \n",
       "266                          Panula, Mr. Ernesti Arvid    male  16.0      4   \n",
       "195                               Lurette, Miss. Elise  female  58.0      0   \n",
       "610  Andersson, Mrs. Anders Johan (Alfrida Konstant...  female  39.0      1   \n",
       "\n",
       "     Parch      Ticket      Fare Cabin Embarked  \n",
       "724      0      113806   53.1000    E8        S  \n",
       "578      0        2689   14.4583   NaN        C  \n",
       "187      0      111428   26.5500   NaN        S  \n",
       "848      1      248727   33.0000   NaN        S  \n",
       "888      2  W./C. 6607   23.4500   NaN        S  \n",
       "701      0    PC 17475   26.2875   E24        S  \n",
       "247      2      250649   14.5000   NaN        S  \n",
       "266      1     3101295   39.6875   NaN        S  \n",
       "195      0    PC 17569  146.5208   B80        C  \n",
       "610      5      347082   31.2750   NaN        S  "
      ]
     },
     "execution_count": 3,
     "metadata": {},
     "output_type": "execute_result"
    }
   ],
   "source": [
    "d.sample(10)"
   ]
  },
  {
   "cell_type": "markdown",
   "metadata": {},
   "source": [
    "Lets say we want to create a classifier whether a passenger survived or not using two variables: age and fare (price for a ticket). We want to create a simple decision tree to accomplish this task. "
   ]
  },
  {
   "cell_type": "code",
   "execution_count": 4,
   "metadata": {},
   "outputs": [],
   "source": [
    "dd = d[['Survived', 'Fare', 'Age']].copy()\n",
    "\n",
    "# Droping missing entries\n",
    "dd.dropna(inplace=True)"
   ]
  },
  {
   "cell_type": "code",
   "execution_count": 5,
   "metadata": {},
   "outputs": [
    {
     "name": "stdout",
     "output_type": "stream",
     "text": [
      "Number of observations: 714\n"
     ]
    }
   ],
   "source": [
    "print(f\"Number of observations: {dd.shape[0]}\")"
   ]
  },
  {
   "cell_type": "code",
   "execution_count": 6,
   "metadata": {},
   "outputs": [
    {
     "data": {
      "image/png": "[encoded data removed]",
      "text/plain": [
       "<Figure size 720x720 with 1 Axes>"
      ]
     },
     "metadata": {
      "needs_background": "light"
     },
     "output_type": "display_data"
    }
   ],
   "source": [
    "plt.figure(figsize=(10, 10))\n",
    "sns.scatterplot(y='Fare', x='Age', data=dd, hue='Survived')\n",
    "plt.grid()\n",
    "plt.show()"
   ]
  },
  {
   "cell_type": "markdown",
   "metadata": {},
   "source": [
    "Every decision tree creation starts with the selection of what variable and what value we should choose to split? "
   ]
  },
  {
   "cell_type": "code",
   "execution_count": 7,
   "metadata": {},
   "outputs": [
    {
     "data": {
      "image/png": "[encoded data removed]",
      "text/plain": [
       "<Figure size 720x720 with 1 Axes>"
      ]
     },
     "metadata": {
      "needs_background": "light"
     },
     "output_type": "display_data"
    }
   ],
   "source": [
    "# Define the split value \n",
    "age_split = 10\n",
    "\n",
    "# Ploting the original plot\n",
    "plt.figure(figsize=(10, 10))\n",
    "sns.scatterplot(y='Fare', x='Age', data=dd, hue='Survived')\n",
    "plt.grid()\n",
    "\n",
    "# Adding the vertical line\n",
    "plt.axvline(age_split, label='Spliting criteria', color='red')\n",
    "plt.legend()\n",
    "plt.show()"
   ]
  },
  {
   "cell_type": "code",
   "execution_count": 8,
   "metadata": {},
   "outputs": [],
   "source": [
    "# Getting the left and right datasets\n",
    "left = dd[dd['Age']<=age_split]\n",
    "right = dd[dd['Age']>age_split]"
   ]
  },
  {
   "cell_type": "markdown",
   "metadata": {},
   "source": [
    "We made a decision to split the data into two parts based on the visual ques from the scatterplot. Some statistics:"
   ]
  },
  {
   "cell_type": "code",
   "execution_count": 9,
   "metadata": {},
   "outputs": [
    {
     "name": "stdout",
     "output_type": "stream",
     "text": [
      "Observations to the left of criteria: 64\n",
      "Observations to the right of criteria: 650\n"
     ]
    }
   ],
   "source": [
    "print(f\"Observations to the left of criteria: {left.shape[0]}\")\n",
    "print(f\"Observations to the right of criteria: {right.shape[0]}\")"
   ]
  },
  {
   "cell_type": "code",
   "execution_count": 10,
   "metadata": {},
   "outputs": [
    {
     "data": {
      "text/html": [
       "<div>\n",
       "<style scoped>\n",
       "    .dataframe tbody tr th:only-of-type {\n",
       "        vertical-align: middle;\n",
       "    }\n",
       "\n",
       "    .dataframe tbody tr th {\n",
       "        vertical-align: top;\n",
       "    }\n",
       "\n",
       "    .dataframe thead th {\n",
       "        text-align: right;\n",
       "    }\n",
       "</style>\n",
       "<table border=\"1\" class=\"dataframe\">\n",
       "  <thead>\n",
       "    <tr style=\"text-align: right;\">\n",
       "      <th></th>\n",
       "      <th>Survived</th>\n",
       "      <th>size</th>\n",
       "    </tr>\n",
       "  </thead>\n",
       "  <tbody>\n",
       "    <tr>\n",
       "      <th>0</th>\n",
       "      <td>0</td>\n",
       "      <td>26</td>\n",
       "    </tr>\n",
       "    <tr>\n",
       "      <th>1</th>\n",
       "      <td>1</td>\n",
       "      <td>38</td>\n",
       "    </tr>\n",
       "  </tbody>\n",
       "</table>\n",
       "</div>"
      ],
      "text/plain": [
       "   Survived  size\n",
       "0         0    26\n",
       "1         1    38"
      ]
     },
     "execution_count": 10,
     "metadata": {},
     "output_type": "execute_result"
    }
   ],
   "source": [
    "left.groupby('Survived', as_index=False).size()"
   ]
  },
  {
   "cell_type": "code",
   "execution_count": 11,
   "metadata": {},
   "outputs": [
    {
     "data": {
      "text/html": [
       "<div>\n",
       "<style scoped>\n",
       "    .dataframe tbody tr th:only-of-type {\n",
       "        vertical-align: middle;\n",
       "    }\n",
       "\n",
       "    .dataframe tbody tr th {\n",
       "        vertical-align: top;\n",
       "    }\n",
       "\n",
       "    .dataframe thead th {\n",
       "        text-align: right;\n",
       "    }\n",
       "</style>\n",
       "<table border=\"1\" class=\"dataframe\">\n",
       "  <thead>\n",
       "    <tr style=\"text-align: right;\">\n",
       "      <th></th>\n",
       "      <th>Survived</th>\n",
       "      <th>size</th>\n",
       "    </tr>\n",
       "  </thead>\n",
       "  <tbody>\n",
       "    <tr>\n",
       "      <th>0</th>\n",
       "      <td>0</td>\n",
       "      <td>398</td>\n",
       "    </tr>\n",
       "    <tr>\n",
       "      <th>1</th>\n",
       "      <td>1</td>\n",
       "      <td>252</td>\n",
       "    </tr>\n",
       "  </tbody>\n",
       "</table>\n",
       "</div>"
      ],
      "text/plain": [
       "   Survived  size\n",
       "0         0   398\n",
       "1         1   252"
      ]
     },
     "execution_count": 11,
     "metadata": {},
     "output_type": "execute_result"
    }
   ],
   "source": [
    "right.groupby('Survived', as_index=False).size()"
   ]
  },
  {
   "cell_type": "markdown",
   "metadata": {},
   "source": [
    "There are observations from both of the classes in the nodes. Thus, each of the nodes are are **impure**. But how impure? To measure impurity we use the **GINI** impurity coefficient. "
   ]
  },
  {
   "cell_type": "markdown",
   "metadata": {},
   "source": [
    "# GINI impurity definition "
   ]
  },
  {
   "cell_type": "markdown",
   "metadata": {},
   "source": [
    "The GINI impurity index is the default spliting criteria when building decision trees. "
   ]
  },
  {
   "cell_type": "markdown",
   "metadata": {},
   "source": [
    "The formal definition for GINI impurity is as follows: \n",
    "    \n",
    "*Gini impurity is a measure of how often a randomly chosen element from the set would be incorrectly labeled if it was randomly labeled according to the distribution of labels in the subset.*"
   ]
  },
  {
   "cell_type": "markdown",
   "metadata": {},
   "source": [
    "The definition is not very intuitive so lets bring some clarity. \n",
    "\n",
    "Suppose we have two classes in the dataset:\n",
    "\n",
    "$$k_{1}, k_{2}$$. \n",
    "\n",
    "Each of the classes have $n_{1}$ and $n_{2}$ observations."
   ]
  },
  {
   "cell_type": "markdown",
   "metadata": {},
   "source": [
    "The probability of observing something from one of the $k$ classes is: "
   ]
  },
  {
   "cell_type": "markdown",
   "metadata": {},
   "source": [
    "$$p(i) = P(x_{i} \\in k_{i}) = \\dfrac{n_{i}}{n_{1} + n_{2}},  i \\in \\{1, 2\\}$$"
   ]
  },
  {
   "cell_type": "markdown",
   "metadata": {},
   "source": [
    "The GINI impurity of such a system is calculated with the following formula:\n",
    "    \n",
    "$$G = 1 - \\Sigma_{i=1}^{2}p(i)^{2}$$"
   ]
  },
  {
   "cell_type": "markdown",
   "metadata": {},
   "source": [
    "The function for calculating the impurity is in the **Node** class:"
   ]
  },
  {
   "cell_type": "code",
   "execution_count": 12,
   "metadata": {},
   "outputs": [
    {
     "name": "stdout",
     "output_type": "stream",
     "text": [
      "    @staticmethod\n",
      "    def GINI_impurity(y1_count: int, y2_count: int) -> float:\n",
      "        \"\"\"\n",
      "        Given the observations of a binary class calculate the GINI impurity\n",
      "        \"\"\"\n",
      "        # Ensuring the correct types\n",
      "        if y1_count is None:\n",
      "            y1_count = 0\n",
      "\n",
      "        if y2_count is None:\n",
      "            y2_count = 0\n",
      "\n",
      "        # Getting the total observations\n",
      "        n = y1_count + y2_count\n",
      "        \n",
      "        # If n is 0 then we return the lowest possible gini impurity\n",
      "        if n == 0:\n",
      "            return 0.0\n",
      "\n",
      "        # Getting the probability to see each of the classes\n",
      "        p1 = y1_count / n\n",
      "        p2 = y2_count / n\n",
      "        \n",
      "        # Calculating GINI \n",
      "        gini = 1 - (p1 ** 2 + p2 ** 2)\n",
      "        \n",
      "        # Returning the gini impurity\n",
      "        return gini\n",
      "\n"
     ]
    }
   ],
   "source": [
    "print(inspect.getsource(Node.GINI_impurity))"
   ]
  },
  {
   "cell_type": "code",
   "execution_count": 13,
   "metadata": {},
   "outputs": [],
   "source": [
    "# Simulating some data\n",
    "n = 1000\n",
    "\n",
    "shares_y1 = [\n",
    "    0, \n",
    "    0.1,\n",
    "    0.2,\n",
    "    0.3,\n",
    "    0.4,\n",
    "    0.5, \n",
    "    0.6,\n",
    "    0.7,\n",
    "    0.8,\n",
    "    0.9,\n",
    "    1\n",
    "] \n",
    "\n",
    "y1_counts = [x * n for x in shares_y1]\n",
    "y2_counts = [n - x for x in y1_counts]\n",
    "\n",
    "y = list(zip(y1_counts, y2_counts))"
   ]
  },
  {
   "cell_type": "code",
   "execution_count": 14,
   "metadata": {},
   "outputs": [
    {
     "data": {
      "text/plain": [
       "[(0, 1000),\n",
       " (100.0, 900.0),\n",
       " (200.0, 800.0),\n",
       " (300.0, 700.0),\n",
       " (400.0, 600.0),\n",
       " (500.0, 500.0),\n",
       " (600.0, 400.0),\n",
       " (700.0, 300.0),\n",
       " (800.0, 200.0),\n",
       " (900.0, 100.0),\n",
       " (1000, 0)]"
      ]
     },
     "execution_count": 14,
     "metadata": {},
     "output_type": "execute_result"
    }
   ],
   "source": [
    "y"
   ]
  },
  {
   "cell_type": "code",
   "execution_count": 15,
   "metadata": {},
   "outputs": [],
   "source": [
    "# Getting the GINI impurities for such data\n",
    "ginis = [Node.GINI_impurity(x[0], x[1]) for x in y]"
   ]
  },
  {
   "cell_type": "code",
   "execution_count": 16,
   "metadata": {},
   "outputs": [
    {
     "data": {
      "image/png": "[encoded data removed]",
      "text/plain": [
       "<Figure size 432x288 with 1 Axes>"
      ]
     },
     "metadata": {
      "needs_background": "light"
     },
     "output_type": "display_data"
    }
   ],
   "source": [
    "plt.plot(shares_y1, ginis, '-o')\n",
    "plt.xlabel(\"Share of first class in the whole dataset\")\n",
    "plt.ylabel(\"GINI impurity\")\n",
    "plt.show()"
   ]
  },
  {
   "cell_type": "markdown",
   "metadata": {},
   "source": [
    "The above graph shows a very important relationship. The upper bound of the GINI impurity index is 0.5. It occurs when there is an equal number of observations of each class in the dataset. This is the **worst** case in terms of GINI impurity.\n",
    "\n",
    "At the edges of graph, we get that impurity is 0. This occurs when there is only one class in the data. This is the **best** situation. "
   ]
  },
  {
   "cell_type": "markdown",
   "metadata": {},
   "source": [
    "# GINI impurity of a split "
   ]
  },
  {
   "cell_type": "markdown",
   "metadata": {},
   "source": [
    "Going back to the example with the titanic dataset, we have two datasets resulting from the chosen split. Each of the datasets have different GINI impurity indexes. "
   ]
  },
  {
   "cell_type": "code",
   "execution_count": 17,
   "metadata": {},
   "outputs": [],
   "source": [
    "left_counts = left.groupby(\"Survived\").size().values.tolist()\n",
    "right_counts = right.groupby(\"Survived\").size().values.tolist()\n",
    "\n",
    "gini_left = Node.GINI_impurity(left_counts[0], left_counts[1])\n",
    "gini_right = Node.GINI_impurity(right_counts[0], right_counts[1])"
   ]
  },
  {
   "cell_type": "code",
   "execution_count": 18,
   "metadata": {},
   "outputs": [
    {
     "name": "stdout",
     "output_type": "stream",
     "text": [
      "Gini impurity of the left node: 0.482421875\n",
      "Gini impurity of the right node: 0.47477396449704146\n"
     ]
    }
   ],
   "source": [
    "print(f\"Gini impurity of the left node: {gini_left}\")\n",
    "print(f\"Gini impurity of the right node: {gini_right}\")"
   ]
  },
  {
   "cell_type": "markdown",
   "metadata": {},
   "source": [
    "The final GINI impurity index is calculated using the weighted average based on the observation sizes in each of the datasets."
   ]
  },
  {
   "cell_type": "code",
   "execution_count": 19,
   "metadata": {},
   "outputs": [],
   "source": [
    "w1 = left.shape[0]/ (left.shape[0] + right.shape[0]) \n",
    "w2 = right.shape[0] / (left.shape[0] + right.shape[0]) "
   ]
  },
  {
   "cell_type": "code",
   "execution_count": 20,
   "metadata": {},
   "outputs": [],
   "source": [
    "gini_final = w1 * gini_left + w2 * gini_right"
   ]
  },
  {
   "cell_type": "code",
   "execution_count": 21,
   "metadata": {},
   "outputs": [
    {
     "name": "stdout",
     "output_type": "stream",
     "text": [
      "Final gini impurity: 0.4754594914889033\n"
     ]
    }
   ],
   "source": [
    "print(f\"Final gini impurity: {gini_final}\")"
   ]
  },
  {
   "cell_type": "markdown",
   "metadata": {},
   "source": [
    "# GINI gain"
   ]
  },
  {
   "cell_type": "markdown",
   "metadata": {},
   "source": [
    "The last metric used in deciding where to split the data is the GINI gain metric. Its calculated by the difference of non splited GINI of the dataset and the GINI of the selected split. "
   ]
  },
  {
   "cell_type": "markdown",
   "metadata": {},
   "source": [
    "$$GINI gain = \\Delta Gini = Gini_{parent} - (Gini_{left} \\dfrac{n_{left}}{n_{right} + n_{left}} + Gini_{right} \\dfrac{n_{right}}{n_{right} + n_{left}} )$$"
   ]
  },
  {
   "cell_type": "code",
   "execution_count": 22,
   "metadata": {},
   "outputs": [],
   "source": [
    "def GINI_impurity_df(df:pd.DataFrame, target):\n",
    "    \"\"\"\n",
    "    Function to calculate the resulting GINI impurity of a split\n",
    "    \"\"\"\n",
    "    # Getting the counts and ginis\n",
    "    counts = df.groupby(target).size().values.tolist()\n",
    "\n",
    "    gini = Node.GINI_impurity(counts[0], counts[1])\n",
    "    \n",
    "    return gini"
   ]
  },
  {
   "cell_type": "code",
   "execution_count": 23,
   "metadata": {},
   "outputs": [],
   "source": [
    "gini_orig = GINI_impurity_df(dd, 'Survived')"
   ]
  },
  {
   "cell_type": "code",
   "execution_count": 24,
   "metadata": {},
   "outputs": [
    {
     "name": "stdout",
     "output_type": "stream",
     "text": [
      "Gini non-splited: 0.48238903404499056\n",
      "Gini with the proposed split: 0.4754594914889033\n",
      "Gini gain: 0.006929542556087243\n"
     ]
    }
   ],
   "source": [
    "print(f\"Gini non-splited: {gini_orig}\")\n",
    "print(f\"Gini with the proposed split: {gini_final}\")\n",
    "print(f\"Gini gain: {gini_orig - gini_final}\")"
   ]
  },
  {
   "cell_type": "markdown",
   "metadata": {},
   "source": [
    "At each split decision, we chose that split that has the highest GINI gain. If the GINI gain is non positive, we do not perform the split."
   ]
  },
  {
   "cell_type": "markdown",
   "metadata": {},
   "source": [
    "# Spliting on numeric variables \n"
   ]
  },
  {
   "cell_type": "markdown",
   "metadata": {},
   "source": [
    "When deciding where to split a numeric feature, we first sort all the values, get the means between neighbouring values and calculate the GINI gains with each of the means.\n",
    "\n",
    "The full code to get the best split:"
   ]
  },
  {
   "cell_type": "code",
   "execution_count": 25,
   "metadata": {},
   "outputs": [
    {
     "name": "stdout",
     "output_type": "stream",
     "text": [
      "    @staticmethod\n",
      "    def ma(x: np.array, window: int) -> np.array:\n",
      "        \"\"\"\n",
      "        Calculates the moving average of the given list. \n",
      "        \"\"\"\n",
      "        return np.convolve(x, np.ones(window), 'valid') / window\n",
      "\n"
     ]
    }
   ],
   "source": [
    "print(inspect.getsource(Node.ma))"
   ]
  },
  {
   "cell_type": "code",
   "execution_count": 26,
   "metadata": {},
   "outputs": [
    {
     "name": "stdout",
     "output_type": "stream",
     "text": [
      "    def best_split(self) -> tuple:\n",
      "        \"\"\"\n",
      "        Given the X features and Y targets calculates the best split \n",
      "        for a decision tree\n",
      "        \"\"\"\n",
      "        # Creating a dataset for spliting\n",
      "        df = self.X.copy()\n",
      "        df['Y'] = self.Y\n",
      "\n",
      "        # Getting the GINI impurity for the base input \n",
      "        GINI_base = self.get_GINI()\n",
      "\n",
      "        # Finding which split yields the best GINI gain \n",
      "        max_gain = 0\n",
      "\n",
      "        # Default best feature and split\n",
      "        best_feature = None\n",
      "        best_value = None\n",
      "\n",
      "        for feature in self.features:\n",
      "            # Droping missing values\n",
      "            Xdf = df.dropna().sort_values(feature)\n",
      "\n",
      "            # Sorting the values and getting the rolling average\n",
      "            xmeans = self.ma(Xdf[feature].unique(), 2)\n",
      "\n",
      "            for value in xmeans:\n",
      "                # Spliting the dataset \n",
      "                left_counts = Counter(Xdf[Xdf[feature]<value]['Y'])\n",
      "                right_counts = Counter(Xdf[Xdf[feature]>=value]['Y'])\n",
      "\n",
      "                # Getting the Y distribution from the dicts\n",
      "                y0_left, y1_left, y0_right, y1_right = left_counts.get(0, 0), left_counts.get(1, 0), right_counts.get(0, 0), right_counts.get(1, 0)\n",
      "\n",
      "                # Getting the left and right gini impurities\n",
      "                gini_left = self.GINI_impurity(y0_left, y1_left)\n",
      "                gini_right = self.GINI_impurity(y0_right, y1_right)\n",
      "\n",
      "                # Getting the obs count from the left and the right data splits\n",
      "                n_left = y0_left + y1_left\n",
      "                n_right = y0_right + y1_right\n",
      "\n",
      "                # Calculating the weights for each of the nodes\n",
      "                w_left = n_left / (n_left + n_right)\n",
      "                w_right = n_right / (n_left + n_right)\n",
      "\n",
      "                # Calculating the weighted GINI impurity\n",
      "                wGINI = w_left * gini_left + w_right * gini_right\n",
      "\n",
      "                # Calculating the GINI gain \n",
      "                GINIgain = GINI_base - wGINI\n",
      "\n",
      "                # Checking if this is the best split so far \n",
      "                if GINIgain > max_gain:\n",
      "                    best_feature = feature\n",
      "                    best_value = value \n",
      "\n",
      "                    # Setting the best gain to the current one \n",
      "                    max_gain = GINIgain\n",
      "\n",
      "        return (best_feature, best_value)\n",
      "\n"
     ]
    }
   ],
   "source": [
    "print(inspect.getsource(Node.best_split))"
   ]
  },
  {
   "cell_type": "markdown",
   "metadata": {},
   "source": [
    "# Growing the full tree"
   ]
  },
  {
   "cell_type": "code",
   "execution_count": 27,
   "metadata": {},
   "outputs": [],
   "source": [
    "# Dropping missing values\n",
    "dtree = d[['Survived', 'Age', 'Fare']].dropna().copy()\n",
    "\n",
    "# Defining the X and Y matrices\n",
    "Y = dtree['Survived'].values\n",
    "X = dtree[['Age', 'Fare']]\n",
    "\n",
    "# Saving the feature list \n",
    "features = list(X.columns)"
   ]
  },
  {
   "cell_type": "code",
   "execution_count": 28,
   "metadata": {},
   "outputs": [],
   "source": [
    "# Setting the available hyper parameters of a tree\n",
    "hp = {\n",
    "    'max_depth': 3,\n",
    "    'min_samples_split': 50\n",
    "}"
   ]
  },
  {
   "cell_type": "code",
   "execution_count": 29,
   "metadata": {},
   "outputs": [
    {
     "name": "stdout",
     "output_type": "stream",
     "text": [
      "Root\n",
      "   | GINI impurity of the node: 0.48\n",
      "   | Class distribution in the node: {0: 424, 1: 290}\n",
      "   | Predicted class: 0\n",
      "|-------- Split rule: Fare <= 52.277\n",
      "           | GINI impurity of the node: 0.44\n",
      "           | Class distribution in the node: {0: 389, 1: 195}\n",
      "           | Predicted class: 0\n",
      "|---------------- Split rule: Fare <= 10.481\n",
      "                   | GINI impurity of the node: 0.32\n",
      "                   | Class distribution in the node: {0: 192, 1: 47}\n",
      "                   | Predicted class: 0\n",
      "|------------------------ Split rule: Age <= 32.5\n",
      "                           | GINI impurity of the node: 0.37\n",
      "                           | Class distribution in the node: {0: 134, 1: 43}\n",
      "                           | Predicted class: 0\n",
      "|------------------------ Split rule: Age > 32.5\n",
      "                           | GINI impurity of the node: 0.12\n",
      "                           | Class distribution in the node: {0: 58, 1: 4}\n",
      "                           | Predicted class: 0\n",
      "|---------------- Split rule: Fare > 10.481\n",
      "                   | GINI impurity of the node: 0.49\n",
      "                   | Class distribution in the node: {0: 197, 1: 148}\n",
      "                   | Predicted class: 0\n",
      "|------------------------ Split rule: Age <= 6.5\n",
      "                           | GINI impurity of the node: 0.41\n",
      "                           | Class distribution in the node: {0: 12, 1: 30}\n",
      "                           | Predicted class: 1\n",
      "|------------------------ Split rule: Age > 6.5\n",
      "                           | GINI impurity of the node: 0.48\n",
      "                           | Class distribution in the node: {0: 185, 1: 118}\n",
      "                           | Predicted class: 0\n",
      "|-------- Split rule: Fare > 52.277\n",
      "           | GINI impurity of the node: 0.39\n",
      "           | Class distribution in the node: {1: 95, 0: 35}\n",
      "           | Predicted class: 1\n",
      "|---------------- Split rule: Age <= 63.5\n",
      "                   | GINI impurity of the node: 0.38\n",
      "                   | Class distribution in the node: {1: 95, 0: 32}\n",
      "                   | Predicted class: 1\n",
      "|------------------------ Split rule: Age <= 29.5\n",
      "                           | GINI impurity of the node: 0.44\n",
      "                           | Class distribution in the node: {0: 17, 1: 34}\n",
      "                           | Predicted class: 1\n",
      "|------------------------ Split rule: Age > 29.5\n",
      "                           | GINI impurity of the node: 0.32\n",
      "                           | Class distribution in the node: {1: 61, 0: 15}\n",
      "                           | Predicted class: 1\n",
      "|---------------- Split rule: Age > 63.5\n",
      "                   | GINI impurity of the node: 0.0\n",
      "                   | Class distribution in the node: {0: 3}\n",
      "                   | Predicted class: 0\n"
     ]
    }
   ],
   "source": [
    "# Initiating the Node\n",
    "root = Node(Y, X, **hp)\n",
    "\n",
    "# Getting teh best split\n",
    "root.grow_tree()\n",
    "\n",
    "# Printing the tree information \n",
    "root.print_tree()"
   ]
  },
  {
   "cell_type": "markdown",
   "metadata": {},
   "source": [
    "As it turns out, the best first split is the fare feature at value 52.227.  "
   ]
  },
  {
   "cell_type": "code",
   "execution_count": 30,
   "metadata": {},
   "outputs": [
    {
     "data": {
      "image/png": "[encoded data removed]",
      "text/plain": [
       "<Figure size 720x720 with 1 Axes>"
      ]
     },
     "metadata": {
      "needs_background": "light"
     },
     "output_type": "display_data"
    }
   ],
   "source": [
    "# Define the split value \n",
    "age_split = 8 \n",
    "\n",
    "# Ploting the original plot\n",
    "plt.figure(figsize=(10, 10))\n",
    "sns.scatterplot(y='Fare', x='Age', data=dd, hue='Survived')\n",
    "plt.grid()\n",
    "\n",
    "# Adding the split line\n",
    "plt.axhline(52.77, label='Best fare split', color='green')\n",
    "plt.legend()\n",
    "plt.show()"
   ]
  },
  {
   "cell_type": "markdown",
   "metadata": {},
   "source": [
    "# Scikit-learn comparison "
   ]
  },
  {
   "cell_type": "markdown",
   "metadata": {},
   "source": [
    "The go-to machine learning framework with python is the scikit-learn package https://scikit-learn.org/stable/index.html. \n",
    "    \n",
    "The package has a decision tree creation implementation: https://scikit-learn.org/stable/modules/generated/sklearn.tree.DecisionTreeClassifier.html?highlight=decisiontree#sklearn.tree.DecisionTreeClassifier"
   ]
  },
  {
   "cell_type": "markdown",
   "metadata": {},
   "source": [
    "Lets see how it compares to the custom tree creation that I have written."
   ]
  },
  {
   "cell_type": "code",
   "execution_count": 31,
   "metadata": {},
   "outputs": [],
   "source": [
    "custom_tree_start = time.time()\n",
    "\n",
    "# Initiating the Node\n",
    "root = Node(Y, X, **hp)\n",
    "\n",
    "# Getting teh best split\n",
    "root.grow_tree()\n",
    "\n",
    "custom_tree_time = time.time() - custom_tree_start"
   ]
  },
  {
   "cell_type": "code",
   "execution_count": 32,
   "metadata": {},
   "outputs": [],
   "source": [
    "scikit_tree_start = time.time()\n",
    "\n",
    "# Using the ML package \n",
    "clf = DecisionTreeClassifier(**hp)\n",
    "clf.fit(X, Y)\n",
    "\n",
    "scikit_tree_time = time.time() - scikit_tree_start"
   ]
  },
  {
   "cell_type": "code",
   "execution_count": 33,
   "metadata": {},
   "outputs": [
    {
     "name": "stdout",
     "output_type": "stream",
     "text": [
      "Custom tree growing time: 0.4791076183319092s\n",
      "Scikit tree growing time: 0.002000570297241211s\n"
     ]
    }
   ],
   "source": [
    "print(f\"Custom tree growing time: {custom_tree_time}s\")\n",
    "print(f\"Scikit tree growing time: {scikit_tree_time}s\")"
   ]
  },
  {
   "cell_type": "markdown",
   "metadata": {},
   "source": [
    "As can be expected, the highly optimized scikit-learn solution works faster."
   ]
  },
  {
   "cell_type": "markdown",
   "metadata": {},
   "source": [
    "Both methods have a visualization: "
   ]
  },
  {
   "cell_type": "code",
   "execution_count": 34,
   "metadata": {
    "scrolled": false
   },
   "outputs": [
    {
     "name": "stdout",
     "output_type": "stream",
     "text": [
      "Root\n",
      "   | GINI impurity of the node: 0.48\n",
      "   | Class distribution in the node: {0: 424, 1: 290}\n",
      "   | Predicted class: 0\n",
      "|-------- Split rule: Fare <= 52.277\n",
      "           | GINI impurity of the node: 0.44\n",
      "           | Class distribution in the node: {0: 389, 1: 195}\n",
      "           | Predicted class: 0\n",
      "|---------------- Split rule: Fare <= 10.481\n",
      "                   | GINI impurity of the node: 0.32\n",
      "                   | Class distribution in the node: {0: 192, 1: 47}\n",
      "                   | Predicted class: 0\n",
      "|------------------------ Split rule: Age <= 32.5\n",
      "                           | GINI impurity of the node: 0.37\n",
      "                           | Class distribution in the node: {0: 134, 1: 43}\n",
      "                           | Predicted class: 0\n",
      "|------------------------ Split rule: Age > 32.5\n",
      "                           | GINI impurity of the node: 0.12\n",
      "                           | Class distribution in the node: {0: 58, 1: 4}\n",
      "                           | Predicted class: 0\n",
      "|---------------- Split rule: Fare > 10.481\n",
      "                   | GINI impurity of the node: 0.49\n",
      "                   | Class distribution in the node: {0: 197, 1: 148}\n",
      "                   | Predicted class: 0\n",
      "|------------------------ Split rule: Age <= 6.5\n",
      "                           | GINI impurity of the node: 0.41\n",
      "                           | Class distribution in the node: {0: 12, 1: 30}\n",
      "                           | Predicted class: 1\n",
      "|------------------------ Split rule: Age > 6.5\n",
      "                           | GINI impurity of the node: 0.48\n",
      "                           | Class distribution in the node: {0: 185, 1: 118}\n",
      "                           | Predicted class: 0\n",
      "|-------- Split rule: Fare > 52.277\n",
      "           | GINI impurity of the node: 0.39\n",
      "           | Class distribution in the node: {1: 95, 0: 35}\n",
      "           | Predicted class: 1\n",
      "|---------------- Split rule: Age <= 63.5\n",
      "                   | GINI impurity of the node: 0.38\n",
      "                   | Class distribution in the node: {1: 95, 0: 32}\n",
      "                   | Predicted class: 1\n",
      "|------------------------ Split rule: Age <= 29.5\n",
      "                           | GINI impurity of the node: 0.44\n",
      "                           | Class distribution in the node: {0: 17, 1: 34}\n",
      "                           | Predicted class: 1\n",
      "|------------------------ Split rule: Age > 29.5\n",
      "                           | GINI impurity of the node: 0.32\n",
      "                           | Class distribution in the node: {1: 61, 0: 15}\n",
      "                           | Predicted class: 1\n",
      "|---------------- Split rule: Age > 63.5\n",
      "                   | GINI impurity of the node: 0.0\n",
      "                   | Class distribution in the node: {0: 3}\n",
      "                   | Predicted class: 0\n"
     ]
    }
   ],
   "source": [
    "root.print_tree()"
   ]
  },
  {
   "cell_type": "code",
   "execution_count": 35,
   "metadata": {},
   "outputs": [
    {
     "name": "stdout",
     "output_type": "stream",
     "text": [
      "|--- Fare <= 52.28\n",
      "|   |--- Fare <= 10.48\n",
      "|   |   |--- Age <= 32.50\n",
      "|   |   |   |--- class: 0\n",
      "|   |   |--- Age >  32.50\n",
      "|   |   |   |--- class: 0\n",
      "|   |--- Fare >  10.48\n",
      "|   |   |--- Age <= 6.50\n",
      "|   |   |   |--- class: 1\n",
      "|   |   |--- Age >  6.50\n",
      "|   |   |   |--- class: 0\n",
      "|--- Fare >  52.28\n",
      "|   |--- Age <= 63.50\n",
      "|   |   |--- Age <= 29.50\n",
      "|   |   |   |--- class: 1\n",
      "|   |   |--- Age >  29.50\n",
      "|   |   |   |--- class: 1\n",
      "|   |--- Age >  63.50\n",
      "|   |   |--- class: 0\n",
      "\n"
     ]
    }
   ],
   "source": [
    "print(export_text(clf, feature_names=['Age', 'Fare']))"
   ]
  },
  {
   "cell_type": "markdown",
   "metadata": {},
   "source": [
    "# Predictions"
   ]
  },
  {
   "cell_type": "code",
   "execution_count": 36,
   "metadata": {},
   "outputs": [
    {
     "data": {
      "text/plain": [
       "True"
      ]
     },
     "execution_count": 36,
     "metadata": {},
     "output_type": "execute_result"
    }
   ],
   "source": [
    "# Result frame\n",
    "results = X.copy()\n",
    "\n",
    "# Predictions\n",
    "results['scikit_learn'] = clf.predict(X[features])\n",
    "results['custom_yhat'] = root.predict(X[features])\n",
    "\n",
    "# Asserting that every prediction is the same \n",
    "np.all(results['scikit_learn'] == results['custom_yhat'])"
   ]
  },
  {
   "cell_type": "markdown",
   "metadata": {},
   "source": [
    "All the predictions are the same. "
   ]
  },
  {
   "cell_type": "markdown",
   "metadata": {},
   "source": [
    "# Regression trees "
   ]
  },
  {
   "cell_type": "markdown",
   "metadata": {},
   "source": [
    "If the response variable $Y$ is not binary but continuous, the spliting criteria of Gini impurity looses its sense. We then use what are called regression decision trees. "
   ]
  },
  {
   "cell_type": "markdown",
   "metadata": {},
   "source": [
    "The main difference between the classification decision tree is that each node saves the mean of the $Y$ variable in itself and the spliting logic aims to minimize the sum of squared **residuals** in each node. \n",
    "\n",
    "The residuals are calculated by the formula:\n",
    "\n",
    "$$r_{i} = y_{i} - \\widehat{y}$$ \n",
    "\n",
    "Where $y_{i}$ - is the true i-th observation in the node and $\\widehat{y}$ is the average of the response variables in the node."
   ]
  },
  {
   "cell_type": "markdown",
   "metadata": {},
   "source": [
    "# The data "
   ]
  },
  {
   "cell_type": "markdown",
   "metadata": {},
   "source": [
    "We will try to create a decision tree where the dependent variable $Y$ is the miles per gallon that a car can go and the explanatory variables $X$ are horsepower, accelaration and the weight of the car.  "
   ]
  },
  {
   "cell_type": "markdown",
   "metadata": {},
   "source": [
    "## Reading data "
   ]
  },
  {
   "cell_type": "code",
   "execution_count": 37,
   "metadata": {},
   "outputs": [],
   "source": [
    "d = pd.read_csv(\"data/regression/auto-mpg.csv\")\n",
    "\n",
    "# Subsetting\n",
    "d = d[d['horsepower']!='?']\n",
    "\n",
    "# Constructing the X and Y matrices\n",
    "features = ['horsepower', 'weight', 'acceleration']\n",
    "\n",
    "for ft in features:\n",
    "    d[ft] = pd.to_numeric(d[ft])\n",
    "\n",
    "X = d[features]\n",
    "Y = d['mpg'].values.tolist()"
   ]
  },
  {
   "cell_type": "markdown",
   "metadata": {},
   "source": [
    "### Ploting relationships"
   ]
  },
  {
   "cell_type": "code",
   "execution_count": 41,
   "metadata": {},
   "outputs": [
    {
     "data": {
      "image/png": "[encoded data removed]",
      "text/plain": [
       "<Figure size 432x288 with 1 Axes>"
      ]
     },
     "metadata": {
      "needs_background": "light"
     },
     "output_type": "display_data"
    },
    {
     "data": {
      "image/png": "[encoded data removed]",
      "text/plain": [
       "<Figure size 432x288 with 1 Axes>"
      ]
     },
     "metadata": {
      "needs_background": "light"
     },
     "output_type": "display_data"
    },
    {
     "data": {
      "image/png": "[encoded data removed]",
      "text/plain": [
       "<Figure size 432x288 with 1 Axes>"
      ]
     },
     "metadata": {
      "needs_background": "light"
     },
     "output_type": "display_data"
    }
   ],
   "source": [
    "for feature in features:\n",
    "    plt.scatter(X[feature], Y)\n",
    "    plt.xlabel(feature)\n",
    "    plt.ylabel('mpg')\n",
    "    plt.title(f\"{feature} relationship with mpg\")\n",
    "    plt.grid()\n",
    "    plt.show()"
   ]
  },
  {
   "cell_type": "markdown",
   "metadata": {},
   "source": [
    "## The spliting criterion "
   ]
  },
  {
   "cell_type": "markdown",
   "metadata": {},
   "source": [
    "The main difference between a classification tree and a regression tree is the spliting criterion. Each node has the y mean saved and we can get the residuals by subtracting that mean from all the y values that fall into that node.\n",
    "\n",
    "Then we search for the feature and the feature value which minimizes the **mean squared error (mse)** statistic:\n",
    "\n",
    "$$mse = \\dfrac{1}{n} \\Sigma_{i=1}^{n} \\left( y_{i} - \\overline{y} \\right) ^ {2}$$"
   ]
  },
  {
   "cell_type": "markdown",
   "metadata": {},
   "source": [
    "# Implementation"
   ]
  },
  {
   "cell_type": "code",
   "execution_count": 42,
   "metadata": {},
   "outputs": [],
   "source": [
    "custom_tree_start = time.time()\n",
    "\n",
    "# Initiating the Node\n",
    "root = NodeRegression(Y, X, **hp)\n",
    "\n",
    "# Getting teh best split\n",
    "root.grow_tree()\n",
    "\n",
    "custom_tree_time = time.time() - custom_tree_start"
   ]
  },
  {
   "cell_type": "code",
   "execution_count": 45,
   "metadata": {},
   "outputs": [],
   "source": [
    "scikit_tree_start = time.time()\n",
    "\n",
    "# Using the ML package \n",
    "clf = DecisionTreeRegressor(**hp)\n",
    "clf.fit(X, Y)\n",
    "\n",
    "scikit_tree_time = time.time() - scikit_tree_start"
   ]
  },
  {
   "cell_type": "code",
   "execution_count": 46,
   "metadata": {},
   "outputs": [
    {
     "name": "stdout",
     "output_type": "stream",
     "text": [
      "Custom tree growing time: 0.7820971012115479s\n",
      "Scikit tree growing time: 0.014009714126586914s\n"
     ]
    }
   ],
   "source": [
    "print(f\"Custom tree growing time: {custom_tree_time}s\")\n",
    "print(f\"Scikit tree growing time: {scikit_tree_time}s\")"
   ]
  },
  {
   "cell_type": "code",
   "execution_count": 47,
   "metadata": {},
   "outputs": [
    {
     "name": "stdout",
     "output_type": "stream",
     "text": [
      "Root\n",
      "   | MSE of the node: 60.76\n",
      "   | Count of observations in node: 392\n",
      "   | Prediction of node: 23.446\n",
      "|-------- Split rule: weight <= 2764.5\n",
      "           | MSE of the node: 32.65\n",
      "           | Count of observations in node: 191\n",
      "           | Prediction of node: 29.42\n",
      "|---------------- Split rule: horsepower <= 70.5\n",
      "                   | MSE of the node: 25.84\n",
      "                   | Count of observations in node: 69\n",
      "                   | Prediction of node: 33.68\n",
      "|------------------------ Split rule: acceleration <= 23.6\n",
      "                           | MSE of the node: 23.52\n",
      "                           | Count of observations in node: 67\n",
      "                           | Prediction of node: 33.381\n",
      "|------------------------ Split rule: acceleration > 23.6\n",
      "                           | MSE of the node: 0.09\n",
      "                           | Count of observations in node: 2\n",
      "                           | Prediction of node: 43.7\n",
      "|---------------- Split rule: horsepower > 70.5\n",
      "                   | MSE of the node: 20.43\n",
      "                   | Count of observations in node: 122\n",
      "                   | Prediction of node: 27.011\n",
      "|------------------------ Split rule: horsepower <= 84.5\n",
      "                           | MSE of the node: 17.65\n",
      "                           | Count of observations in node: 53\n",
      "                           | Prediction of node: 29.03\n",
      "|------------------------ Split rule: horsepower > 84.5\n",
      "                           | MSE of the node: 17.03\n",
      "                           | Count of observations in node: 69\n",
      "                           | Prediction of node: 25.459\n",
      "|-------- Split rule: weight > 2764.5\n",
      "           | MSE of the node: 21.34\n",
      "           | Count of observations in node: 201\n",
      "           | Prediction of node: 17.769\n",
      "|---------------- Split rule: horsepower <= 127.0\n",
      "                   | MSE of the node: 16.76\n",
      "                   | Count of observations in node: 103\n",
      "                   | Prediction of node: 20.669\n",
      "|------------------------ Split rule: horsepower <= 71.5\n",
      "                           | MSE of the node: 14.83\n",
      "                           | Count of observations in node: 3\n",
      "                           | Prediction of node: 31.2\n",
      "|------------------------ Split rule: horsepower > 71.5\n",
      "                           | MSE of the node: 13.39\n",
      "                           | Count of observations in node: 100\n",
      "                           | Prediction of node: 20.353\n",
      "|---------------- Split rule: horsepower > 127.0\n",
      "                   | MSE of the node: 8.02\n",
      "                   | Count of observations in node: 98\n",
      "                   | Prediction of node: 14.721\n",
      "|------------------------ Split rule: weight <= 2998.0\n",
      "                           | MSE of the node: 0.0\n",
      "                           | Count of observations in node: 1\n",
      "                           | Prediction of node: 32.7\n",
      "|------------------------ Split rule: weight > 2998.0\n",
      "                           | MSE of the node: 4.74\n",
      "                           | Count of observations in node: 97\n",
      "                           | Prediction of node: 14.536\n"
     ]
    }
   ],
   "source": [
    "root.print_tree()"
   ]
  },
  {
   "cell_type": "code",
   "execution_count": 49,
   "metadata": {},
   "outputs": [
    {
     "name": "stdout",
     "output_type": "stream",
     "text": [
      "|--- weight <= 2764.50\n",
      "|   |--- horsepower <= 70.50\n",
      "|   |   |--- acceleration <= 23.60\n",
      "|   |   |   |--- value: [33.38]\n",
      "|   |   |--- acceleration >  23.60\n",
      "|   |   |   |--- value: [43.70]\n",
      "|   |--- horsepower >  70.50\n",
      "|   |   |--- horsepower <= 84.50\n",
      "|   |   |   |--- value: [29.03]\n",
      "|   |   |--- horsepower >  84.50\n",
      "|   |   |   |--- value: [25.46]\n",
      "|--- weight >  2764.50\n",
      "|   |--- horsepower <= 127.00\n",
      "|   |   |--- horsepower <= 71.50\n",
      "|   |   |   |--- value: [31.20]\n",
      "|   |   |--- horsepower >  71.50\n",
      "|   |   |   |--- value: [20.35]\n",
      "|   |--- horsepower >  127.00\n",
      "|   |   |--- weight <= 2998.00\n",
      "|   |   |   |--- value: [32.70]\n",
      "|   |   |--- weight >  2998.00\n",
      "|   |   |   |--- value: [14.54]\n",
      "\n"
     ]
    }
   ],
   "source": [
    "print(export_text(clf, feature_names=features))"
   ]
  },
  {
   "cell_type": "code",
   "execution_count": null,
   "metadata": {},
   "outputs": [],
   "source": []
  }
 ],
 "metadata": {
  "kernelspec": {
   "display_name": "decision-tree",
   "language": "python",
   "name": "decision-tree"
  },
  "language_info": {
   "codemirror_mode": {
    "name": "ipython",
    "version": 3
   },
   "file_extension": ".py",
   "mimetype": "text/x-python",
   "name": "python",
   "nbconvert_exporter": "python",
   "pygments_lexer": "ipython3",
   "version": "3.8.8"
  }
 },
 "nbformat": 4,
 "nbformat_minor": 4
}
